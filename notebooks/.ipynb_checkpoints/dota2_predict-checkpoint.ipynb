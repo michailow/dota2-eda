{
 "cells": [
  {
   "cell_type": "markdown",
   "id": "26d12ccb",
   "metadata": {},
   "source": [
    "# Predict match outcomes by first 15 minutes"
   ]
  },
  {
   "cell_type": "markdown",
   "id": "c70f8d1d",
   "metadata": {},
   "source": [
    "## Content"
   ]
  },
  {
   "cell_type": "markdown",
   "id": "9930a28e",
   "metadata": {},
   "source": [
    "1. Intro\n",
    "2. Setup\n",
    "3. Prepare data\n",
    "4. Train model & choose param\n",
    "5. Test model"
   ]
  },
  {
   "cell_type": "markdown",
   "id": "5a253b2a",
   "metadata": {},
   "source": [
    "## Intro"
   ]
  },
  {
   "cell_type": "markdown",
   "id": "5f1f6ded",
   "metadata": {},
   "source": [
    "Second part is dedicated to building ML model for Dota2 prediction"
   ]
  },
  {
   "cell_type": "markdown",
   "id": "b1e9885f",
   "metadata": {},
   "source": [
    "___"
   ]
  },
  {
   "cell_type": "markdown",
   "id": "c2f3927a",
   "metadata": {},
   "source": [
    "## Setup"
   ]
  },
  {
   "cell_type": "raw",
   "id": "09ff1bed",
   "metadata": {
    "scrolled": true
   },
   "source": [
    "!pip3 install torch torchvision torchaudio --index-url https://download.pytorch.org/whl/cu117"
   ]
  },
  {
   "cell_type": "code",
   "execution_count": 1,
   "id": "63237d88",
   "metadata": {},
   "outputs": [],
   "source": [
    "import numpy as np\n",
    "import pandas as pd"
   ]
  },
  {
   "cell_type": "code",
   "execution_count": null,
   "id": "d445cc63",
   "metadata": {},
   "outputs": [],
   "source": [
    "import torch"
   ]
  },
  {
   "cell_type": "code",
   "execution_count": 2,
   "id": "22791305",
   "metadata": {},
   "outputs": [],
   "source": [
    "import warnings\n",
    "warnings.filterwarnings('ignore')"
   ]
  },
  {
   "cell_type": "code",
   "execution_count": 3,
   "id": "ad0ec0fe",
   "metadata": {},
   "outputs": [],
   "source": [
    "pd.set_option('display.max_rows', 500)\n",
    "pd.set_option('display.max_columns', 500)\n",
    "pd.set_option('display.width', 1000)"
   ]
  },
  {
   "cell_type": "markdown",
   "id": "93ad8d86",
   "metadata": {},
   "source": [
    "___"
   ]
  },
  {
   "cell_type": "markdown",
   "id": "bd772f00",
   "metadata": {},
   "source": [
    "## Prepare data"
   ]
  },
  {
   "cell_type": "code",
   "execution_count": 4,
   "id": "1a10f4eb",
   "metadata": {},
   "outputs": [],
   "source": [
    "df_match = pd.read_csv('../archive/match.csv')"
   ]
  },
  {
   "cell_type": "code",
   "execution_count": 5,
   "id": "ac00e6ca",
   "metadata": {},
   "outputs": [],
   "source": [
    "Q3 = np.quantile(df_match['duration'], 0.75)\n",
    "Q1 = np.quantile(df_match['duration'], 0.25)\n",
    "IQR = Q3 - Q1\n",
    "lowerRange = Q1 - 1.5 * IQR\n",
    "upperRange = Q3 + 1.5 * IQR"
   ]
  },
  {
   "cell_type": "code",
   "execution_count": 6,
   "id": "812d7a6c",
   "metadata": {},
   "outputs": [],
   "source": [
    "dfIqr = df_match[df_match['duration'].between(lowerRange, upperRange)]"
   ]
  },
  {
   "cell_type": "code",
   "execution_count": 7,
   "id": "1988f473",
   "metadata": {},
   "outputs": [],
   "source": [
    "df_match_for_analysis = dfIqr[dfIqr['duration'] > 900][['match_id', 'first_blood_time', 'radiant_win']]"
   ]
  },
  {
   "cell_type": "code",
   "execution_count": 8,
   "id": "7cc7b0df",
   "metadata": {},
   "outputs": [],
   "source": [
    "df_player_time = pd.read_csv('../archive/player_time.csv')"
   ]
  },
  {
   "cell_type": "code",
   "execution_count": 9,
   "id": "ecda883a",
   "metadata": {},
   "outputs": [],
   "source": [
    "df_player_time_5_min = df_player_time[df_player_time['times'] < 301]"
   ]
  },
  {
   "cell_type": "code",
   "execution_count": 10,
   "id": "ca9ff249",
   "metadata": {},
   "outputs": [],
   "source": [
    "df_player_time_5_min['gold_t_r'] = df_player_time_5_min['gold_t_1'] + df_player_time_5_min['gold_t_2'] + df_player_time_5_min['gold_t_3'] + df_player_time_5_min['gold_t_4'] + df_player_time_5_min['gold_t_0']\n",
    "df_player_time_5_min['lh_t_r'] = df_player_time_5_min['lh_t_0'] + df_player_time_5_min['lh_t_1'] + df_player_time_5_min['lh_t_2'] + df_player_time_5_min['lh_t_3'] + df_player_time_5_min['lh_t_4']\n",
    "df_player_time_5_min['xp_t_r'] = df_player_time_5_min['xp_t_0'] + df_player_time_5_min['xp_t_1'] + df_player_time_5_min['xp_t_2'] + df_player_time_5_min['xp_t_3'] + df_player_time_5_min['xp_t_4']\n",
    "\n",
    "df_player_time_5_min['gold_t_d'] = df_player_time_5_min['gold_t_128'] + df_player_time_5_min['gold_t_129'] + df_player_time_5_min['gold_t_130'] + df_player_time_5_min['gold_t_131'] + df_player_time_5_min['gold_t_132']\n",
    "df_player_time_5_min['lh_t_d'] = df_player_time_5_min['lh_t_128'] + df_player_time_5_min['lh_t_129'] + df_player_time_5_min['lh_t_130'] + df_player_time_5_min['lh_t_131'] + df_player_time_5_min['lh_t_132']\n",
    "df_player_time_5_min['xp_t_d'] = df_player_time_5_min['xp_t_128'] + df_player_time_5_min['xp_t_129'] + df_player_time_5_min['xp_t_130'] + df_player_time_5_min['xp_t_131'] + df_player_time_5_min['xp_t_132']"
   ]
  },
  {
   "cell_type": "code",
   "execution_count": 11,
   "id": "c2b9b07a",
   "metadata": {},
   "outputs": [],
   "source": [
    "df_player_time_5_min = df_player_time_5_min[['match_id', 'times', 'gold_t_r', 'lh_t_r','xp_t_r','gold_t_d','lh_t_d','xp_t_d']]"
   ]
  },
  {
   "cell_type": "code",
   "execution_count": 12,
   "id": "d190daf2",
   "metadata": {},
   "outputs": [],
   "source": [
    "df_player_time_5_min_sum = df_player_time_5_min.groupby(\"match_id\").sum()"
   ]
  },
  {
   "cell_type": "code",
   "execution_count": 13,
   "id": "2db92084",
   "metadata": {},
   "outputs": [],
   "source": [
    "df_match_5_min = df_match_for_analysis.merge(df_player_time_5_min_sum, on='match_id')"
   ]
  },
  {
   "cell_type": "code",
   "execution_count": 14,
   "id": "ae9e462c",
   "metadata": {},
   "outputs": [],
   "source": [
    "df_objectives = pd.read_csv('../archive/objectives.csv')\n",
    "df_objectives_5_min = df_objectives[df_objectives['time'] < 301]"
   ]
  },
  {
   "cell_type": "code",
   "execution_count": 15,
   "id": "c0c777f6",
   "metadata": {},
   "outputs": [],
   "source": [
    "def team_r(row, message):\n",
    "    if row['subtype'] == message:\n",
    "        if row['player1'] < 5:\n",
    "            return 1\n",
    "        else:\n",
    "            return 0"
   ]
  },
  {
   "cell_type": "code",
   "execution_count": 16,
   "id": "9c03cfef",
   "metadata": {},
   "outputs": [],
   "source": [
    "def team_d(row, message):\n",
    "    if row['subtype'] == message:\n",
    "        if row['player1'] > 4:\n",
    "            return 1\n",
    "        else:\n",
    "            return 0"
   ]
  },
  {
   "cell_type": "code",
   "execution_count": 17,
   "id": "d9dbdab1",
   "metadata": {},
   "outputs": [],
   "source": [
    "df_objectives_5_min['roshan_radiant'] = df_objectives_5_min.apply(lambda x: team_r(x, 'CHAT_MESSAGE_ROSHAN_KILL'), axis = 1)\n",
    "df_objectives_5_min['roshan_dire'] = df_objectives_5_min.apply(lambda x: team_d(x, 'CHAT_MESSAGE_ROSHAN_KILL'), axis = 1)\n",
    "#\n",
    "df_objectives_5_min['firstblood_radiant'] = df_objectives_5_min.apply(lambda x: team_r(x, 'CHAT_MESSAGE_FIRSTBLOOD'), axis = 1)\n",
    "df_objectives_5_min['firstblood_dire'] = df_objectives_5_min.apply(lambda x: team_d(x, 'CHAT_MESSAGE_FIRSTBLOOD'), axis = 1)\n",
    "#\n",
    "df_objectives_5_min['tower_radiant'] = df_objectives_5_min.apply(lambda x: team_r(x, 'CHAT_MESSAGE_TOWER_KILL'), axis = 1)\n",
    "df_objectives_5_min['tower_dire'] = df_objectives_5_min.apply(lambda x: team_d(x, 'CHAT_MESSAGE_TOWER_KILL'), axis = 1)"
   ]
  },
  {
   "cell_type": "code",
   "execution_count": 18,
   "id": "4a22eac7",
   "metadata": {},
   "outputs": [],
   "source": [
    "df_objectives_5_min = df_objectives_5_min[['match_id', 'roshan_radiant', 'roshan_dire', 'firstblood_radiant', 'firstblood_dire', 'tower_radiant', 'tower_dire']]"
   ]
  },
  {
   "cell_type": "code",
   "execution_count": 19,
   "id": "41fa0760",
   "metadata": {},
   "outputs": [],
   "source": [
    "df_objectives_5_min.fillna(0, inplace=True)"
   ]
  },
  {
   "cell_type": "code",
   "execution_count": 20,
   "id": "3b018194",
   "metadata": {},
   "outputs": [],
   "source": [
    "df_objectives_5_min_sum = df_objectives_5_min.groupby('match_id').sum()"
   ]
  },
  {
   "cell_type": "code",
   "execution_count": 21,
   "id": "f21a82b6",
   "metadata": {},
   "outputs": [],
   "source": [
    "df = df_match_5_min.merge(df_objectives_5_min_sum, on='match_id')"
   ]
  },
  {
   "cell_type": "code",
   "execution_count": 22,
   "id": "d7780f0b",
   "metadata": {},
   "outputs": [
    {
     "data": {
      "text/html": [
       "<div>\n",
       "<style scoped>\n",
       "    .dataframe tbody tr th:only-of-type {\n",
       "        vertical-align: middle;\n",
       "    }\n",
       "\n",
       "    .dataframe tbody tr th {\n",
       "        vertical-align: top;\n",
       "    }\n",
       "\n",
       "    .dataframe thead th {\n",
       "        text-align: right;\n",
       "    }\n",
       "</style>\n",
       "<table border=\"1\" class=\"dataframe\">\n",
       "  <thead>\n",
       "    <tr style=\"text-align: right;\">\n",
       "      <th></th>\n",
       "      <th>match_id</th>\n",
       "      <th>first_blood_time</th>\n",
       "      <th>radiant_win</th>\n",
       "      <th>times</th>\n",
       "      <th>gold_t_r</th>\n",
       "      <th>lh_t_r</th>\n",
       "      <th>xp_t_r</th>\n",
       "      <th>gold_t_d</th>\n",
       "      <th>lh_t_d</th>\n",
       "      <th>xp_t_d</th>\n",
       "      <th>roshan_radiant</th>\n",
       "      <th>roshan_dire</th>\n",
       "      <th>firstblood_radiant</th>\n",
       "      <th>firstblood_dire</th>\n",
       "      <th>tower_radiant</th>\n",
       "      <th>tower_dire</th>\n",
       "    </tr>\n",
       "  </thead>\n",
       "  <tbody>\n",
       "    <tr>\n",
       "      <th>0</th>\n",
       "      <td>0</td>\n",
       "      <td>1</td>\n",
       "      <td>True</td>\n",
       "      <td>900</td>\n",
       "      <td>17971</td>\n",
       "      <td>114</td>\n",
       "      <td>18471</td>\n",
       "      <td>20637</td>\n",
       "      <td>200</td>\n",
       "      <td>18134</td>\n",
       "      <td>0.0</td>\n",
       "      <td>0.0</td>\n",
       "      <td>1.0</td>\n",
       "      <td>0.0</td>\n",
       "      <td>0.0</td>\n",
       "      <td>0.0</td>\n",
       "    </tr>\n",
       "    <tr>\n",
       "      <th>1</th>\n",
       "      <td>1</td>\n",
       "      <td>221</td>\n",
       "      <td>False</td>\n",
       "      <td>900</td>\n",
       "      <td>15743</td>\n",
       "      <td>163</td>\n",
       "      <td>15001</td>\n",
       "      <td>19164</td>\n",
       "      <td>169</td>\n",
       "      <td>17249</td>\n",
       "      <td>0.0</td>\n",
       "      <td>0.0</td>\n",
       "      <td>1.0</td>\n",
       "      <td>0.0</td>\n",
       "      <td>0.0</td>\n",
       "      <td>0.0</td>\n",
       "    </tr>\n",
       "    <tr>\n",
       "      <th>2</th>\n",
       "      <td>2</td>\n",
       "      <td>190</td>\n",
       "      <td>False</td>\n",
       "      <td>900</td>\n",
       "      <td>15690</td>\n",
       "      <td>147</td>\n",
       "      <td>17671</td>\n",
       "      <td>13179</td>\n",
       "      <td>100</td>\n",
       "      <td>16446</td>\n",
       "      <td>0.0</td>\n",
       "      <td>0.0</td>\n",
       "      <td>0.0</td>\n",
       "      <td>1.0</td>\n",
       "      <td>0.0</td>\n",
       "      <td>0.0</td>\n",
       "    </tr>\n",
       "    <tr>\n",
       "      <th>3</th>\n",
       "      <td>3</td>\n",
       "      <td>40</td>\n",
       "      <td>False</td>\n",
       "      <td>900</td>\n",
       "      <td>14252</td>\n",
       "      <td>88</td>\n",
       "      <td>15816</td>\n",
       "      <td>15398</td>\n",
       "      <td>121</td>\n",
       "      <td>16217</td>\n",
       "      <td>0.0</td>\n",
       "      <td>0.0</td>\n",
       "      <td>0.0</td>\n",
       "      <td>1.0</td>\n",
       "      <td>0.0</td>\n",
       "      <td>0.0</td>\n",
       "    </tr>\n",
       "    <tr>\n",
       "      <th>4</th>\n",
       "      <td>4</td>\n",
       "      <td>58</td>\n",
       "      <td>True</td>\n",
       "      <td>900</td>\n",
       "      <td>19958</td>\n",
       "      <td>187</td>\n",
       "      <td>16293</td>\n",
       "      <td>15805</td>\n",
       "      <td>123</td>\n",
       "      <td>14025</td>\n",
       "      <td>0.0</td>\n",
       "      <td>0.0</td>\n",
       "      <td>1.0</td>\n",
       "      <td>0.0</td>\n",
       "      <td>0.0</td>\n",
       "      <td>0.0</td>\n",
       "    </tr>\n",
       "  </tbody>\n",
       "</table>\n",
       "</div>"
      ],
      "text/plain": [
       "   match_id  first_blood_time  radiant_win  times  gold_t_r  lh_t_r  xp_t_r  gold_t_d  lh_t_d  xp_t_d  roshan_radiant  roshan_dire  firstblood_radiant  firstblood_dire  tower_radiant  tower_dire\n",
       "0         0                 1         True    900     17971     114   18471     20637     200   18134             0.0          0.0                 1.0              0.0            0.0         0.0\n",
       "1         1               221        False    900     15743     163   15001     19164     169   17249             0.0          0.0                 1.0              0.0            0.0         0.0\n",
       "2         2               190        False    900     15690     147   17671     13179     100   16446             0.0          0.0                 0.0              1.0            0.0         0.0\n",
       "3         3                40        False    900     14252      88   15816     15398     121   16217             0.0          0.0                 0.0              1.0            0.0         0.0\n",
       "4         4                58         True    900     19958     187   16293     15805     123   14025             0.0          0.0                 1.0              0.0            0.0         0.0"
      ]
     },
     "execution_count": 22,
     "metadata": {},
     "output_type": "execute_result"
    }
   ],
   "source": [
    "df.head()"
   ]
  },
  {
   "cell_type": "markdown",
   "id": "6df6d667",
   "metadata": {},
   "source": [
    "___"
   ]
  },
  {
   "cell_type": "markdown",
   "id": "908719e2",
   "metadata": {},
   "source": [
    "## Train model"
   ]
  },
  {
   "cell_type": "raw",
   "id": "927e6f6e",
   "metadata": {},
   "source": [
    "TBD"
   ]
  },
  {
   "cell_type": "code",
   "execution_count": null,
   "id": "a3664121",
   "metadata": {},
   "outputs": [],
   "source": []
  }
 ],
 "metadata": {
  "kernelspec": {
   "display_name": "Python 3 (ipykernel)",
   "language": "python",
   "name": "python3"
  },
  "language_info": {
   "codemirror_mode": {
    "name": "ipython",
    "version": 3
   },
   "file_extension": ".py",
   "mimetype": "text/x-python",
   "name": "python",
   "nbconvert_exporter": "python",
   "pygments_lexer": "ipython3",
   "version": "3.9.7"
  }
 },
 "nbformat": 4,
 "nbformat_minor": 5
}
