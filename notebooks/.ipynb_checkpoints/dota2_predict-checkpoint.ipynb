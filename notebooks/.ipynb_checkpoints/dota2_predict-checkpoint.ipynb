{
 "cells": [
  {
   "cell_type": "markdown",
   "id": "26d12ccb",
   "metadata": {},
   "source": [
    "# Predict match outcomes by first 15 minutes"
   ]
  },
  {
   "cell_type": "markdown",
   "id": "03dcfa61",
   "metadata": {},
   "source": [
    "## Content"
   ]
  },
  {
   "cell_type": "markdown",
   "id": "9a3acf0a",
   "metadata": {},
   "source": [
    "1. Intro\n",
    "2. Setup\n",
    "3. Prepare data\n",
    "4. Train model & choose param\n",
    "5. Test model"
   ]
  },
  {
   "cell_type": "markdown",
   "id": "09919953",
   "metadata": {},
   "source": [
    "## Intro"
   ]
  },
  {
   "cell_type": "markdown",
   "id": "5f1f6ded",
   "metadata": {},
   "source": [
    "Second part is dedicated to building ML model for Dota2 prediction."
   ]
  },
  {
   "cell_type": "markdown",
   "id": "66807ff3",
   "metadata": {},
   "source": [
    "___"
   ]
  },
  {
   "cell_type": "markdown",
   "id": "051e1d5a",
   "metadata": {},
   "source": [
    "## Setup"
   ]
  },
  {
   "cell_type": "code",
   "execution_count": 1,
   "id": "63237d88",
   "metadata": {},
   "outputs": [],
   "source": [
    "import numpy as np\n",
    "import pandas as pd\n",
    "import sklearn"
   ]
  },
  {
   "cell_type": "code",
   "execution_count": 2,
   "id": "2a59b713",
   "metadata": {},
   "outputs": [
    {
     "data": {
      "text/plain": [
       "'1.1.2'"
      ]
     },
     "execution_count": 2,
     "metadata": {},
     "output_type": "execute_result"
    }
   ],
   "source": [
    "sklearn.__version__"
   ]
  },
  {
   "cell_type": "code",
   "execution_count": 3,
   "id": "4370fe79",
   "metadata": {},
   "outputs": [],
   "source": [
    "import warnings\n",
    "warnings.filterwarnings('ignore')"
   ]
  },
  {
   "cell_type": "code",
   "execution_count": 4,
   "id": "601bd5ce",
   "metadata": {},
   "outputs": [],
   "source": [
    "pd.set_option('display.max_rows', 500)\n",
    "pd.set_option('display.max_columns', 500)\n",
    "pd.set_option('display.width', 1000)"
   ]
  },
  {
   "cell_type": "markdown",
   "id": "dd5bb735",
   "metadata": {},
   "source": [
    "___"
   ]
  },
  {
   "cell_type": "markdown",
   "id": "b4d008ff",
   "metadata": {},
   "source": [
    "## Prepare data"
   ]
  },
  {
   "cell_type": "code",
   "execution_count": 5,
   "id": "1a10f4eb",
   "metadata": {},
   "outputs": [],
   "source": [
    "df_match = pd.read_csv('../archive/match.csv')"
   ]
  },
  {
   "cell_type": "code",
   "execution_count": 6,
   "id": "ac00e6ca",
   "metadata": {},
   "outputs": [],
   "source": [
    "Q3 = np.quantile(df_match['duration'], 0.75)\n",
    "Q1 = np.quantile(df_match['duration'], 0.25)\n",
    "IQR = Q3 - Q1\n",
    "lowerRange = Q1 - 1.5 * IQR\n",
    "upperRange = Q3 + 1.5 * IQR"
   ]
  },
  {
   "cell_type": "code",
   "execution_count": 7,
   "id": "812d7a6c",
   "metadata": {},
   "outputs": [],
   "source": [
    "dfIqr = df_match[df_match['duration'].between(lowerRange, upperRange)]"
   ]
  },
  {
   "cell_type": "code",
   "execution_count": 8,
   "id": "1988f473",
   "metadata": {},
   "outputs": [],
   "source": [
    "df_match_for_analysis = dfIqr[dfIqr['duration'] > 900][['match_id', 'first_blood_time', 'radiant_win']]"
   ]
  },
  {
   "cell_type": "code",
   "execution_count": 9,
   "id": "61f73070",
   "metadata": {},
   "outputs": [],
   "source": [
    "df_player_time = pd.read_csv('../archive/player_time.csv')"
   ]
  },
  {
   "cell_type": "code",
   "execution_count": 10,
   "id": "ecda883a",
   "metadata": {},
   "outputs": [],
   "source": [
    "df_player_time_5_min = df_player_time[df_player_time['times'] < 301]"
   ]
  },
  {
   "cell_type": "code",
   "execution_count": 11,
   "id": "b07e872f",
   "metadata": {},
   "outputs": [],
   "source": [
    "df_player_time_5_min['gold_t_r'] = df_player_time_5_min['gold_t_1'] + df_player_time_5_min['gold_t_2'] + df_player_time_5_min['gold_t_3'] + df_player_time_5_min['gold_t_4'] + df_player_time_5_min['gold_t_0']\n",
    "df_player_time_5_min['lh_t_r'] = df_player_time_5_min['lh_t_0'] + df_player_time_5_min['lh_t_1'] + df_player_time_5_min['lh_t_2'] + df_player_time_5_min['lh_t_3'] + df_player_time_5_min['lh_t_4']\n",
    "df_player_time_5_min['xp_t_r'] = df_player_time_5_min['xp_t_0'] + df_player_time_5_min['xp_t_1'] + df_player_time_5_min['xp_t_2'] + df_player_time_5_min['xp_t_3'] + df_player_time_5_min['xp_t_4']\n",
    "\n",
    "df_player_time_5_min['gold_t_d'] = df_player_time_5_min['gold_t_128'] + df_player_time_5_min['gold_t_129'] + df_player_time_5_min['gold_t_130'] + df_player_time_5_min['gold_t_131'] + df_player_time_5_min['gold_t_132']\n",
    "df_player_time_5_min['lh_t_d'] = df_player_time_5_min['lh_t_128'] + df_player_time_5_min['lh_t_129'] + df_player_time_5_min['lh_t_130'] + df_player_time_5_min['lh_t_131'] + df_player_time_5_min['lh_t_132']\n",
    "df_player_time_5_min['xp_t_d'] = df_player_time_5_min['xp_t_128'] + df_player_time_5_min['xp_t_129'] + df_player_time_5_min['xp_t_130'] + df_player_time_5_min['xp_t_131'] + df_player_time_5_min['xp_t_132']"
   ]
  },
  {
   "cell_type": "code",
   "execution_count": 12,
   "id": "1dff5ad7",
   "metadata": {},
   "outputs": [],
   "source": [
    "df_player_time_5_min = df_player_time_5_min[['match_id', 'times', 'gold_t_r', 'lh_t_r','xp_t_r','gold_t_d','lh_t_d','xp_t_d']]"
   ]
  },
  {
   "cell_type": "code",
   "execution_count": 13,
   "id": "464ce3f3",
   "metadata": {},
   "outputs": [],
   "source": [
    "df_player_time_5_min_sum = df_player_time_5_min.groupby(\"match_id\").sum()"
   ]
  },
  {
   "cell_type": "code",
   "execution_count": 14,
   "id": "12b034d7",
   "metadata": {},
   "outputs": [],
   "source": [
    "df_match_5_min = df_match_for_analysis.merge(df_player_time_5_min_sum, on='match_id')"
   ]
  },
  {
   "cell_type": "code",
   "execution_count": 15,
   "id": "5129296e",
   "metadata": {},
   "outputs": [],
   "source": [
    "df_objectives = pd.read_csv('../archive/objectives.csv')\n",
    "df_objectives_5_min = df_objectives[df_objectives['time'] < 301]"
   ]
  },
  {
   "cell_type": "code",
   "execution_count": 16,
   "id": "b823b4bd",
   "metadata": {},
   "outputs": [],
   "source": [
    "def team_r(row, message):\n",
    "    if row['subtype'] == message:\n",
    "        if row['player1'] < 5:\n",
    "            return 1\n",
    "        else:\n",
    "            return 0"
   ]
  },
  {
   "cell_type": "code",
   "execution_count": 17,
   "id": "4311302d",
   "metadata": {},
   "outputs": [],
   "source": [
    "def team_d(row, message):\n",
    "    if row['subtype'] == message:\n",
    "        if row['player1'] > 4:\n",
    "            return 1\n",
    "        else:\n",
    "            return 0"
   ]
  },
  {
   "cell_type": "code",
   "execution_count": 18,
   "id": "2c963d82",
   "metadata": {},
   "outputs": [],
   "source": [
    "df_objectives_5_min['roshan_radiant'] = df_objectives_5_min.apply(lambda x: team_r(x, 'CHAT_MESSAGE_ROSHAN_KILL'), axis = 1)\n",
    "df_objectives_5_min['roshan_dire'] = df_objectives_5_min.apply(lambda x: team_d(x, 'CHAT_MESSAGE_ROSHAN_KILL'), axis = 1)\n",
    "#\n",
    "df_objectives_5_min['firstblood_radiant'] = df_objectives_5_min.apply(lambda x: team_r(x, 'CHAT_MESSAGE_FIRSTBLOOD'), axis = 1)\n",
    "df_objectives_5_min['firstblood_dire'] = df_objectives_5_min.apply(lambda x: team_d(x, 'CHAT_MESSAGE_FIRSTBLOOD'), axis = 1)\n",
    "#\n",
    "df_objectives_5_min['tower_radiant'] = df_objectives_5_min.apply(lambda x: team_r(x, 'CHAT_MESSAGE_TOWER_KILL'), axis = 1)\n",
    "df_objectives_5_min['tower_dire'] = df_objectives_5_min.apply(lambda x: team_d(x, 'CHAT_MESSAGE_TOWER_KILL'), axis = 1)"
   ]
  },
  {
   "cell_type": "code",
   "execution_count": 19,
   "id": "163143b1",
   "metadata": {},
   "outputs": [],
   "source": [
    "df_objectives_5_min = df_objectives_5_min[['match_id', 'roshan_radiant', 'roshan_dire', 'firstblood_radiant', 'firstblood_dire', 'tower_radiant', 'tower_dire']]"
   ]
  },
  {
   "cell_type": "code",
   "execution_count": 20,
   "id": "492646b7",
   "metadata": {},
   "outputs": [],
   "source": [
    "df_objectives_5_min.fillna(0, inplace=True)"
   ]
  },
  {
   "cell_type": "code",
   "execution_count": 21,
   "id": "9d520eb8",
   "metadata": {},
   "outputs": [],
   "source": [
    "df_objectives_5_min_sum = df_objectives_5_min.groupby('match_id').sum()"
   ]
  },
  {
   "cell_type": "code",
   "execution_count": 22,
   "id": "9b1326b0",
   "metadata": {},
   "outputs": [],
   "source": [
    "df = df_match_5_min.merge(df_objectives_5_min_sum, on='match_id')"
   ]
  },
  {
   "cell_type": "code",
   "execution_count": 23,
   "id": "7dbeeda6",
   "metadata": {},
   "outputs": [],
   "source": [
    "df['radiant_win'] = df['radiant_win'].map({True: 1, False: 0})"
   ]
  },
  {
   "cell_type": "code",
   "execution_count": 24,
   "id": "2e3b77c1",
   "metadata": {},
   "outputs": [
    {
     "data": {
      "text/html": [
       "<div>\n",
       "<style scoped>\n",
       "    .dataframe tbody tr th:only-of-type {\n",
       "        vertical-align: middle;\n",
       "    }\n",
       "\n",
       "    .dataframe tbody tr th {\n",
       "        vertical-align: top;\n",
       "    }\n",
       "\n",
       "    .dataframe thead th {\n",
       "        text-align: right;\n",
       "    }\n",
       "</style>\n",
       "<table border=\"1\" class=\"dataframe\">\n",
       "  <thead>\n",
       "    <tr style=\"text-align: right;\">\n",
       "      <th></th>\n",
       "      <th>match_id</th>\n",
       "      <th>first_blood_time</th>\n",
       "      <th>radiant_win</th>\n",
       "      <th>times</th>\n",
       "      <th>gold_t_r</th>\n",
       "      <th>lh_t_r</th>\n",
       "      <th>xp_t_r</th>\n",
       "      <th>gold_t_d</th>\n",
       "      <th>lh_t_d</th>\n",
       "      <th>xp_t_d</th>\n",
       "      <th>roshan_radiant</th>\n",
       "      <th>roshan_dire</th>\n",
       "      <th>firstblood_radiant</th>\n",
       "      <th>firstblood_dire</th>\n",
       "      <th>tower_radiant</th>\n",
       "      <th>tower_dire</th>\n",
       "    </tr>\n",
       "  </thead>\n",
       "  <tbody>\n",
       "    <tr>\n",
       "      <th>0</th>\n",
       "      <td>0</td>\n",
       "      <td>1</td>\n",
       "      <td>1</td>\n",
       "      <td>900</td>\n",
       "      <td>17971</td>\n",
       "      <td>114</td>\n",
       "      <td>18471</td>\n",
       "      <td>20637</td>\n",
       "      <td>200</td>\n",
       "      <td>18134</td>\n",
       "      <td>0.0</td>\n",
       "      <td>0.0</td>\n",
       "      <td>1.0</td>\n",
       "      <td>0.0</td>\n",
       "      <td>0.0</td>\n",
       "      <td>0.0</td>\n",
       "    </tr>\n",
       "    <tr>\n",
       "      <th>1</th>\n",
       "      <td>1</td>\n",
       "      <td>221</td>\n",
       "      <td>0</td>\n",
       "      <td>900</td>\n",
       "      <td>15743</td>\n",
       "      <td>163</td>\n",
       "      <td>15001</td>\n",
       "      <td>19164</td>\n",
       "      <td>169</td>\n",
       "      <td>17249</td>\n",
       "      <td>0.0</td>\n",
       "      <td>0.0</td>\n",
       "      <td>1.0</td>\n",
       "      <td>0.0</td>\n",
       "      <td>0.0</td>\n",
       "      <td>0.0</td>\n",
       "    </tr>\n",
       "    <tr>\n",
       "      <th>2</th>\n",
       "      <td>2</td>\n",
       "      <td>190</td>\n",
       "      <td>0</td>\n",
       "      <td>900</td>\n",
       "      <td>15690</td>\n",
       "      <td>147</td>\n",
       "      <td>17671</td>\n",
       "      <td>13179</td>\n",
       "      <td>100</td>\n",
       "      <td>16446</td>\n",
       "      <td>0.0</td>\n",
       "      <td>0.0</td>\n",
       "      <td>0.0</td>\n",
       "      <td>1.0</td>\n",
       "      <td>0.0</td>\n",
       "      <td>0.0</td>\n",
       "    </tr>\n",
       "    <tr>\n",
       "      <th>3</th>\n",
       "      <td>3</td>\n",
       "      <td>40</td>\n",
       "      <td>0</td>\n",
       "      <td>900</td>\n",
       "      <td>14252</td>\n",
       "      <td>88</td>\n",
       "      <td>15816</td>\n",
       "      <td>15398</td>\n",
       "      <td>121</td>\n",
       "      <td>16217</td>\n",
       "      <td>0.0</td>\n",
       "      <td>0.0</td>\n",
       "      <td>0.0</td>\n",
       "      <td>1.0</td>\n",
       "      <td>0.0</td>\n",
       "      <td>0.0</td>\n",
       "    </tr>\n",
       "    <tr>\n",
       "      <th>4</th>\n",
       "      <td>4</td>\n",
       "      <td>58</td>\n",
       "      <td>1</td>\n",
       "      <td>900</td>\n",
       "      <td>19958</td>\n",
       "      <td>187</td>\n",
       "      <td>16293</td>\n",
       "      <td>15805</td>\n",
       "      <td>123</td>\n",
       "      <td>14025</td>\n",
       "      <td>0.0</td>\n",
       "      <td>0.0</td>\n",
       "      <td>1.0</td>\n",
       "      <td>0.0</td>\n",
       "      <td>0.0</td>\n",
       "      <td>0.0</td>\n",
       "    </tr>\n",
       "  </tbody>\n",
       "</table>\n",
       "</div>"
      ],
      "text/plain": [
       "   match_id  first_blood_time  radiant_win  times  gold_t_r  lh_t_r  xp_t_r  gold_t_d  lh_t_d  xp_t_d  roshan_radiant  roshan_dire  firstblood_radiant  firstblood_dire  tower_radiant  tower_dire\n",
       "0         0                 1            1    900     17971     114   18471     20637     200   18134             0.0          0.0                 1.0              0.0            0.0         0.0\n",
       "1         1               221            0    900     15743     163   15001     19164     169   17249             0.0          0.0                 1.0              0.0            0.0         0.0\n",
       "2         2               190            0    900     15690     147   17671     13179     100   16446             0.0          0.0                 0.0              1.0            0.0         0.0\n",
       "3         3                40            0    900     14252      88   15816     15398     121   16217             0.0          0.0                 0.0              1.0            0.0         0.0\n",
       "4         4                58            1    900     19958     187   16293     15805     123   14025             0.0          0.0                 1.0              0.0            0.0         0.0"
      ]
     },
     "execution_count": 24,
     "metadata": {},
     "output_type": "execute_result"
    }
   ],
   "source": [
    "df.head()"
   ]
  },
  {
   "cell_type": "markdown",
   "id": "43b47fa6",
   "metadata": {},
   "source": [
    "___"
   ]
  },
  {
   "cell_type": "markdown",
   "id": "bff2e93c",
   "metadata": {},
   "source": [
    "## Train model"
   ]
  },
  {
   "cell_type": "code",
   "execution_count": 25,
   "id": "6a791270",
   "metadata": {},
   "outputs": [],
   "source": [
    "from sklearn.ensemble import RandomForestClassifier\n",
    "from sklearn.ensemble import GradientBoostingClassifier\n",
    "from sklearn.model_selection import KFold\n",
    "from sklearn.model_selection import cross_val_score\n",
    "from sklearn.model_selection import train_test_split\n",
    "from sklearn.metrics import roc_auc_score\n",
    "import time\n",
    "import datetime"
   ]
  },
  {
   "cell_type": "code",
   "execution_count": 26,
   "id": "68728ece",
   "metadata": {},
   "outputs": [],
   "source": [
    "X = df.drop(columns=['radiant_win'])\n",
    "y = df['radiant_win']\n",
    "X_train, X_test, y_train, y_test = train_test_split(X, y, test_size=0.2, random_state=666)"
   ]
  },
  {
   "cell_type": "code",
   "execution_count": 27,
   "id": "2742fa0e",
   "metadata": {},
   "outputs": [],
   "source": [
    "kf = KFold(shuffle=True, n_splits = 5, random_state = 666)"
   ]
  },
  {
   "cell_type": "code",
   "execution_count": 28,
   "id": "03bec367",
   "metadata": {},
   "outputs": [
    {
     "name": "stdout",
     "output_type": "stream",
     "text": [
      "Time 0:00:02.420068\n",
      "n_estimators 10\n",
      "Score 0.6341349794322302\n",
      "\n",
      "Time 0:00:02.635402\n",
      "n_estimators 20\n",
      "Score 0.6349305146484665\n",
      "\n",
      "Time 0:00:03.247094\n",
      "n_estimators 30\n",
      "Score 0.6350410822316982\n",
      "\n",
      "Time 0:00:03.986205\n",
      "n_estimators 40\n",
      "Score 0.6346840767892783\n",
      "\n",
      "Time 0:00:04.895952\n",
      "n_estimators 50\n",
      "Score 0.634590511689059\n",
      "\n",
      "Time 0:00:05.730692\n",
      "n_estimators 60\n",
      "Score 0.6344901442219351\n",
      "\n",
      "Time 0:00:06.843534\n",
      "n_estimators 70\n",
      "Score 0.6345189368254338\n",
      "\n",
      "Time 0:00:07.677200\n",
      "n_estimators 80\n",
      "Score 0.6342071336504803\n",
      "\n",
      "Time 0:00:08.594706\n",
      "n_estimators 90\n",
      "Score 0.6339317818170874\n",
      "\n",
      "Time 0:00:09.501513\n",
      "n_estimators 100\n",
      "Score 0.6338896873107289\n",
      "\n"
     ]
    }
   ],
   "source": [
    "for i in range(10, 110, 10):\n",
    "    start = datetime.datetime.now()\n",
    "    clf = GradientBoostingClassifier(n_estimators=i, max_depth=4, random_state=0)\n",
    "    score = cross_val_score(estimator=clf, X=X_train, y=y_train, cv=kf, scoring='roc_auc', n_jobs = -1)\n",
    "    \n",
    "    print(\"Time\", datetime.datetime.now() - start)\n",
    "    print(\"n_estimators\", i)\n",
    "    print(\"Score\", score.mean())\n",
    "    print(\"\")"
   ]
  },
  {
   "cell_type": "markdown",
   "id": "aab2d0b6",
   "metadata": {},
   "source": [
    "Not the best results. Lets try with __Random Forest__:"
   ]
  },
  {
   "cell_type": "code",
   "execution_count": 29,
   "id": "03258e8c",
   "metadata": {},
   "outputs": [
    {
     "data": {
      "text/plain": [
       "0.6339277827211219"
      ]
     },
     "execution_count": 29,
     "metadata": {},
     "output_type": "execute_result"
    }
   ],
   "source": [
    "score_bag = cross_val_score(estimator=RandomForestClassifier(max_depth=4),\n",
    "                            X=X_train, y=y_train, cv=kf, scoring='roc_auc', n_jobs = -1)\n",
    "score_bag.mean()"
   ]
  },
  {
   "cell_type": "markdown",
   "id": "e3fa0c3e",
   "metadata": {},
   "source": [
    "64% accurasy is not the best result. <br>\n",
    "The main reason is poor data quality. I think that main reason it is so low - in data we cannot filter hero kills by time.<br>\n",
    "I would try to get original data source and enrich data from there<br>\n",
    "__TBD__"
   ]
  },
  {
   "cell_type": "markdown",
   "id": "7fddaa77",
   "metadata": {},
   "source": [
    "___"
   ]
  }
 ],
 "metadata": {
  "kernelspec": {
   "display_name": "Python 3 (ipykernel)",
   "language": "python",
   "name": "python3"
  },
  "language_info": {
   "codemirror_mode": {
    "name": "ipython",
    "version": 3
   },
   "file_extension": ".py",
   "mimetype": "text/x-python",
   "name": "python",
   "nbconvert_exporter": "python",
   "pygments_lexer": "ipython3",
   "version": "3.9.7"
  }
 },
 "nbformat": 4,
 "nbformat_minor": 5
}
