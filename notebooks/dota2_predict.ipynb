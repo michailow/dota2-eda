{
 "cells": [
  {
   "cell_type": "markdown",
   "id": "e8610618",
   "metadata": {},
   "source": [
    "# Predict match outcomes by first 15 minutes"
   ]
  },
  {
   "cell_type": "markdown",
   "id": "8dddda17",
   "metadata": {},
   "source": [
    "Second part is dedicated to building ML model for Dota2 prediction"
   ]
  },
  {
   "cell_type": "code",
   "execution_count": 2,
   "id": "3de15d5c",
   "metadata": {
    "scrolled": true
   },
   "outputs": [
    {
     "name": "stdout",
     "output_type": "stream",
     "text": [
      "Defaulting to user installation because normal site-packages is not writeable\n",
      "Looking in indexes: https://download.pytorch.org/whl/cu117\n",
      "Collecting torch\n",
      "  Downloading https://download.pytorch.org/whl/cu117/torch-2.0.1%2Bcu117-cp39-cp39-win_amd64.whl (2343.7 MB)\n",
      "Collecting torchvision\n",
      "  Downloading https://download.pytorch.org/whl/cu117/torchvision-0.15.2%2Bcu117-cp39-cp39-win_amd64.whl (4.9 MB)\n",
      "Collecting torchaudio\n",
      "  Downloading https://download.pytorch.org/whl/cu117/torchaudio-2.0.2%2Bcu117-cp39-cp39-win_amd64.whl (2.5 MB)\n",
      "Collecting sympy\n",
      "  Downloading https://download.pytorch.org/whl/sympy-1.11.1-py3-none-any.whl (6.5 MB)\n",
      "Requirement already satisfied: typing-extensions in c:\\users\\the_r\\appdata\\roaming\\python\\python39\\site-packages (from torch) (4.5.0)\n",
      "Collecting networkx\n",
      "  Downloading https://download.pytorch.org/whl/networkx-3.0-py3-none-any.whl (2.0 MB)\n",
      "Collecting filelock\n",
      "  Downloading https://download.pytorch.org/whl/filelock-3.9.0-py3-none-any.whl (9.7 kB)\n",
      "Requirement already satisfied: jinja2 in c:\\users\\the_r\\appdata\\roaming\\python\\python39\\site-packages (from torch) (2.11.3)\n",
      "Requirement already satisfied: requests in c:\\users\\the_r\\appdata\\roaming\\python\\python39\\site-packages (from torchvision) (2.28.1)\n",
      "Collecting pillow!=8.3.*,>=5.3.0\n",
      "  Downloading https://download.pytorch.org/whl/Pillow-9.3.0-cp39-cp39-win_amd64.whl (2.5 MB)\n",
      "Requirement already satisfied: numpy in c:\\users\\the_r\\appdata\\roaming\\python\\python39\\site-packages (from torchvision) (1.20.3)\n",
      "Requirement already satisfied: MarkupSafe>=0.23 in c:\\users\\the_r\\appdata\\roaming\\python\\python39\\site-packages (from jinja2->torch) (1.1.1)\n",
      "Requirement already satisfied: certifi>=2017.4.17 in c:\\users\\the_r\\appdata\\roaming\\python\\python39\\site-packages (from requests->torchvision) (2021.5.30)\n",
      "Requirement already satisfied: idna<4,>=2.5 in c:\\users\\the_r\\appdata\\roaming\\python\\python39\\site-packages (from requests->torchvision) (3.2)\n",
      "Requirement already satisfied: charset-normalizer<3,>=2 in c:\\users\\the_r\\appdata\\roaming\\python\\python39\\site-packages (from requests->torchvision) (2.0.4)\n",
      "Requirement already satisfied: urllib3<1.27,>=1.21.1 in c:\\users\\the_r\\appdata\\roaming\\python\\python39\\site-packages (from requests->torchvision) (1.26.6)\n",
      "Collecting mpmath>=0.19\n",
      "  Downloading https://download.pytorch.org/whl/mpmath-1.2.1-py3-none-any.whl (532 kB)\n",
      "Installing collected packages: mpmath, sympy, networkx, filelock, torch, pillow, torchvision, torchaudio\n",
      "  Attempting uninstall: pillow\n",
      "    Found existing installation: Pillow 8.3.2\n",
      "    Uninstalling Pillow-8.3.2:\n",
      "      Successfully uninstalled Pillow-8.3.2\n",
      "Successfully installed filelock-3.9.0 mpmath-1.2.1 networkx-3.0 pillow-9.3.0 sympy-1.11.1 torch-2.0.1+cu117 torchaudio-2.0.2+cu117 torchvision-0.15.2+cu117\n"
     ]
    },
    {
     "name": "stderr",
     "output_type": "stream",
     "text": [
      "WARNING: You are using pip version 21.3.1; however, version 23.1.2 is available.\n",
      "You should consider upgrading via the 'C:\\Program Files\\Python39\\python.exe -m pip install --upgrade pip' command.\n"
     ]
    }
   ],
   "source": [
    "!pip3 install torch torchvision torchaudio --index-url https://download.pytorch.org/whl/cu117"
   ]
  },
  {
   "cell_type": "code",
   "execution_count": 3,
   "id": "80e4a97b",
   "metadata": {},
   "outputs": [],
   "source": [
    "import numpy as np\n",
    "import pandas as pd"
   ]
  },
  {
   "cell_type": "code",
   "execution_count": null,
   "id": "93ecd0ba",
   "metadata": {},
   "outputs": [],
   "source": []
  }
 ],
 "metadata": {
  "kernelspec": {
   "display_name": "Python 3 (ipykernel)",
   "language": "python",
   "name": "python3"
  },
  "language_info": {
   "codemirror_mode": {
    "name": "ipython",
    "version": 3
   },
   "file_extension": ".py",
   "mimetype": "text/x-python",
   "name": "python",
   "nbconvert_exporter": "python",
   "pygments_lexer": "ipython3",
   "version": "3.9.7"
  }
 },
 "nbformat": 4,
 "nbformat_minor": 5
}
